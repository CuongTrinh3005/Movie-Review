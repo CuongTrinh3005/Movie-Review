{
 "cells": [
  {
   "cell_type": "code",
   "execution_count": 1,
   "metadata": {},
   "outputs": [
    {
     "name": "stderr",
     "output_type": "stream",
     "text": [
      "Using TensorFlow backend.\n"
     ]
    }
   ],
   "source": [
    "import pandas as pd\n",
    "from data_processing import creat_labeled_data\n",
    "from sklearn.model_selection import train_test_split\n",
    "from sklearn.model_selection import train_test_split\n",
    "from prepare_for_embedding import prepare_for_embedding_layer\n",
    "from Embedding_Matrix import create_embedding_dict, create_embedding_matrix\n",
    "from build_model import build_model"
   ]
  },
  {
   "cell_type": "code",
   "execution_count": 2,
   "metadata": {},
   "outputs": [],
   "source": [
    "def load_data_review(file):\n",
    "    data = pd.read_csv(file)\n",
    "    # print(data.head())\n",
    "    # # Check for any null values in the dataframe.\n",
    "    # print(\"Check whether there are any null values: \", data.isnull().values.any())\n",
    "    # print(\"The data frame's shape is: \", data.shape)\n",
    "    # # Describe the data frame of movie review\n",
    "    # data.describe(include='all')\n",
    "    # # Address the statistic with this dataset\n",
    "    # print(data['sentiment'].value_counts())\n",
    "    return data\n",
    "\n",
    "movie_review = load_data_review('IMDB Dataset.csv')"
   ]
  },
  {
   "cell_type": "code",
   "execution_count": 3,
   "metadata": {},
   "outputs": [],
   "source": [
    "comments, labels = creat_labeled_data(movie_review)"
   ]
  },
  {
   "cell_type": "code",
   "execution_count": 4,
   "metadata": {},
   "outputs": [
    {
     "name": "stdout",
     "output_type": "stream",
     "text": [
      "40000\n"
     ]
    }
   ],
   "source": [
    "x_train, x_test, y_train, y_test = train_test_split(comments, labels, test_size=0.2, shuffle=0.42)\n",
    "print(len(x_train))"
   ]
  },
  {
   "cell_type": "markdown",
   "metadata": {},
   "source": [
    "# Prepare for embedding layer"
   ]
  },
  {
   "cell_type": "markdown",
   "metadata": {},
   "source": [
    "## Convert words to index"
   ]
  },
  {
   "cell_type": "code",
   "execution_count": 5,
   "metadata": {},
   "outputs": [
    {
     "name": "stdout",
     "output_type": "stream",
     "text": [
      "(40000, 100)\n"
     ]
    }
   ],
   "source": [
    "parameters, x_train, x_test = prepare_for_embedding_layer(movie_review, x_train, x_test)\n",
    "print(x_train.shape)"
   ]
  },
  {
   "cell_type": "markdown",
   "metadata": {},
   "source": [
    "After this function executed, we will have a dictionary contains parameters: tokenzier, vocab_size and max_len.\n",
    "We use tokenizer to convert words into indexes with a specific vocabulary size and maximum length of each senntence."
   ]
  },
  {
   "cell_type": "code",
   "execution_count": 6,
   "metadata": {},
   "outputs": [],
   "source": [
    "tokenizer = parameters['tokenizer']\n",
    "vocab_size = parameters['vocab_size']\n",
    "max_len = parameters['max_len']"
   ]
  },
  {
   "cell_type": "markdown",
   "metadata": {},
   "source": [
    "# Create embedding matrix"
   ]
  },
  {
   "cell_type": "code",
   "execution_count": 7,
   "metadata": {},
   "outputs": [],
   "source": [
    "embedding_dict = create_embedding_dict()"
   ]
  },
  {
   "cell_type": "markdown",
   "metadata": {},
   "source": [
    "Embedding dictionary with the key is word and value is the coefficients of this word in glove vector"
   ]
  },
  {
   "cell_type": "code",
   "execution_count": 8,
   "metadata": {},
   "outputs": [],
   "source": [
    "embedding_matrix = create_embedding_matrix(embedding_dict, tokenizer, vocab_size, max_len)"
   ]
  },
  {
   "cell_type": "markdown",
   "metadata": {},
   "source": [
    "# Build model"
   ]
  },
  {
   "cell_type": "code",
   "execution_count": 9,
   "metadata": {},
   "outputs": [
    {
     "name": "stdout",
     "output_type": "stream",
     "text": [
      "Model: \"sequential_1\"\n",
      "_________________________________________________________________\n",
      "Layer (type)                 Output Shape              Param #   \n",
      "=================================================================\n",
      "embedding_1 (Embedding)      (None, 100, 100)          9228800   \n",
      "_________________________________________________________________\n",
      "lstm_1 (LSTM)                (None, 128)               117248    \n",
      "_________________________________________________________________\n",
      "dense_1 (Dense)              (None, 1)                 129       \n",
      "=================================================================\n",
      "Total params: 9,346,177\n",
      "Trainable params: 117,377\n",
      "Non-trainable params: 9,228,800\n",
      "_________________________________________________________________\n"
     ]
    }
   ],
   "source": [
    "model = build_model(vocab_size=vocab_size, embedding_matrix=embedding_matrix, max_len=max_len, input_shape=x_train.shape)"
   ]
  },
  {
   "cell_type": "markdown",
   "metadata": {},
   "source": [
    "## Train model"
   ]
  },
  {
   "cell_type": "code",
   "execution_count": 10,
   "metadata": {},
   "outputs": [
    {
     "name": "stdout",
     "output_type": "stream",
     "text": [
      "Train on 32000 samples, validate on 8000 samples\n",
      "Epoch 1/24\n",
      "32000/32000 [==============================] - 123s 4ms/step - loss: 0.5638 - acc: 0.7075 - val_loss: 0.4368 - val_acc: 0.7960\n",
      "Epoch 2/24\n",
      "32000/32000 [==============================] - 122s 4ms/step - loss: 0.4371 - acc: 0.7967 - val_loss: 0.3880 - val_acc: 0.8245\n",
      "Epoch 3/24\n",
      "32000/32000 [==============================] - 123s 4ms/step - loss: 0.4023 - acc: 0.8130 - val_loss: 0.3873 - val_acc: 0.8250\n",
      "Epoch 4/24\n",
      "32000/32000 [==============================] - 123s 4ms/step - loss: 0.3776 - acc: 0.8279 - val_loss: 0.3640 - val_acc: 0.8326\n",
      "Epoch 5/24\n",
      "32000/32000 [==============================] - 123s 4ms/step - loss: 0.3537 - acc: 0.8412 - val_loss: 0.3527 - val_acc: 0.8428\n",
      "Epoch 6/24\n",
      "32000/32000 [==============================] - 125s 4ms/step - loss: 0.3340 - acc: 0.8505 - val_loss: 0.3225 - val_acc: 0.8609\n",
      "Epoch 7/24\n",
      "32000/32000 [==============================] - 123s 4ms/step - loss: 0.3192 - acc: 0.8587 - val_loss: 0.3275 - val_acc: 0.8586\n",
      "Epoch 8/24\n",
      "32000/32000 [==============================] - 125s 4ms/step - loss: 0.2984 - acc: 0.8696 - val_loss: 0.3245 - val_acc: 0.8659\n",
      "Epoch 9/24\n",
      "32000/32000 [==============================] - 123s 4ms/step - loss: 0.2808 - acc: 0.8800 - val_loss: 0.3266 - val_acc: 0.8620\n",
      "Epoch 10/24\n",
      "32000/32000 [==============================] - 121s 4ms/step - loss: 0.2675 - acc: 0.8832 - val_loss: 0.3302 - val_acc: 0.8555\n",
      "Epoch 11/24\n",
      "32000/32000 [==============================] - 122s 4ms/step - loss: 0.2498 - acc: 0.8939 - val_loss: 0.3392 - val_acc: 0.8591\n",
      "Epoch 12/24\n",
      "32000/32000 [==============================] - 124s 4ms/step - loss: 0.2359 - acc: 0.9010 - val_loss: 0.3292 - val_acc: 0.8624\n",
      "Epoch 13/24\n",
      "32000/32000 [==============================] - 124s 4ms/step - loss: 0.2181 - acc: 0.9098 - val_loss: 0.3516 - val_acc: 0.8553\n",
      "Epoch 14/24\n",
      "32000/32000 [==============================] - 124s 4ms/step - loss: 0.2035 - acc: 0.9162 - val_loss: 0.3598 - val_acc: 0.8564\n",
      "Epoch 15/24\n",
      "32000/32000 [==============================] - 124s 4ms/step - loss: 0.1933 - acc: 0.9193 - val_loss: 0.3580 - val_acc: 0.8614\n",
      "Epoch 16/24\n",
      "32000/32000 [==============================] - 123s 4ms/step - loss: 0.1837 - acc: 0.9254 - val_loss: 0.3647 - val_acc: 0.8608\n",
      "Epoch 17/24\n",
      "32000/32000 [==============================] - 123s 4ms/step - loss: 0.1678 - acc: 0.9329 - val_loss: 0.3650 - val_acc: 0.8606\n",
      "Epoch 18/24\n",
      "32000/32000 [==============================] - 124s 4ms/step - loss: 0.1608 - acc: 0.9348 - val_loss: 0.3837 - val_acc: 0.8625\n",
      "Epoch 19/24\n",
      "32000/32000 [==============================] - 123s 4ms/step - loss: 0.1536 - acc: 0.9389 - val_loss: 0.3778 - val_acc: 0.8581\n",
      "Epoch 20/24\n",
      "32000/32000 [==============================] - 124s 4ms/step - loss: 0.1471 - acc: 0.9413 - val_loss: 0.3878 - val_acc: 0.8608\n",
      "Epoch 21/24\n",
      "32000/32000 [==============================] - 130s 4ms/step - loss: 0.1404 - acc: 0.9448 - val_loss: 0.4268 - val_acc: 0.8566\n",
      "Epoch 22/24\n",
      "32000/32000 [==============================] - 131s 4ms/step - loss: 0.1290 - acc: 0.9500 - val_loss: 0.4509 - val_acc: 0.8559\n",
      "Epoch 23/24\n",
      "32000/32000 [==============================] - 146s 5ms/step - loss: 0.1296 - acc: 0.9490 - val_loss: 0.4108 - val_acc: 0.8533\n",
      "Epoch 24/24\n",
      "32000/32000 [==============================] - 139s 4ms/step - loss: 0.1245 - acc: 0.9516 - val_loss: 0.4280 - val_acc: 0.8554\n"
     ]
    }
   ],
   "source": [
    "hist = model.fit(x_train, y_train, epochs=24, verbose=1, validation_split=0.2, batch_size=32)"
   ]
  },
  {
   "cell_type": "markdown",
   "metadata": {},
   "source": [
    "# Plot model\n",
    "## Accuracy and loss"
   ]
  },
  {
   "cell_type": "markdown",
   "metadata": {},
   "source": [
    "### Accuracy"
   ]
  },
  {
   "cell_type": "code",
   "execution_count": 13,
   "metadata": {},
   "outputs": [
    {
     "data": {
      "image/png": "[encoded data removed]",
      "text/plain": [
       "<Figure size 432x288 with 1 Axes>"
      ]
     },
     "metadata": {
      "needs_background": "light"
     },
     "output_type": "display_data"
    }
   ],
   "source": [
    "import matplotlib.pyplot as plt\n",
    "\n",
    "plt.plot(hist.history['acc'])\n",
    "plt.plot(hist.history['val_acc'])\n",
    "\n",
    "plt.title('model accuracy')\n",
    "plt.ylabel('accuracy')\n",
    "plt.xlabel('epoch')\n",
    "plt.legend(['train','test'], loc='upper left')\n",
    "plt.show()"
   ]
  },
  {
   "cell_type": "markdown",
   "metadata": {},
   "source": [
    "### Loss"
   ]
  },
  {
   "cell_type": "code",
   "execution_count": 14,
   "metadata": {},
   "outputs": [
    {
     "data": {
      "image/png": "[encoded data removed]",
      "text/plain": [
       "<Figure size 432x288 with 1 Axes>"
      ]
     },
     "metadata": {
      "needs_background": "light"
     },
     "output_type": "display_data"
    }
   ],
   "source": [
    "plt.plot(hist.history['loss'])\n",
    "plt.plot(hist.history['val_loss'])\n",
    "\n",
    "plt.title('model loss')\n",
    "plt.ylabel('loss')\n",
    "plt.xlabel('epoch')\n",
    "plt.legend(['train','test'], loc='upper left')\n",
    "plt.show()"
   ]
  },
  {
   "cell_type": "markdown",
   "metadata": {},
   "source": [
    "## Evaluate model on test set"
   ]
  },
  {
   "cell_type": "code",
   "execution_count": 15,
   "metadata": {},
   "outputs": [
    {
     "name": "stdout",
     "output_type": "stream",
     "text": [
      "10000/10000 [==============================] - 12s 1ms/step\n",
      "Test Score:  0.4464739995121956\n",
      "Test Accuracy:  0.8495000004768372\n"
     ]
    }
   ],
   "source": [
    "score = model.evaluate(x_test, y_test, verbose=1)\n",
    "print(\"Test Score: \", score[0])\n",
    "print(\"Test Accuracy: \", score[1])"
   ]
  },
  {
   "cell_type": "markdown",
   "metadata": {},
   "source": [
    "## Make prediction"
   ]
  },
  {
   "cell_type": "code",
   "execution_count": 16,
   "metadata": {},
   "outputs": [
    {
     "name": "stdout",
     "output_type": "stream",
     "text": [
      "Predict: [0.] while Actual: 0\n",
      "Predict: [1.] while Actual: 1\n",
      "Predict: [0.] while Actual: 1\n",
      "Predict: [1.] while Actual: 1\n",
      "Predict: [0.] while Actual: 0\n",
      "Predict: [1.] while Actual: 1\n",
      "Predict: [0.] while Actual: 1\n",
      "Predict: [1.] while Actual: 1\n",
      "Predict: [1.] while Actual: 1\n",
      "Predict: [0.] while Actual: 1\n",
      "Predict: [0.] while Actual: 0\n",
      "Predict: [1.] while Actual: 1\n",
      "Predict: [0.] while Actual: 1\n",
      "Predict: [1.] while Actual: 1\n",
      "Predict: [1.] while Actual: 1\n",
      "Predict: [1.] while Actual: 1\n",
      "Predict: [1.] while Actual: 1\n",
      "Predict: [1.] while Actual: 1\n",
      "Predict: [0.] while Actual: 0\n",
      "Predict: [0.] while Actual: 0\n"
     ]
    }
   ],
   "source": [
    "predictions = model.predict([x_test])\n",
    "# Check whether the prediction is true\n",
    "for i in range(20):\n",
    "    predictions[i] = predictions[i].squeeze()\n",
    "    if predictions[i] >= 0.5:\n",
    "        predictions[i] = 1\n",
    "    else:\n",
    "        predictions[i] = 0\n",
    "    print(f\"Predict: {predictions[i]} while Actual: {y_test[i]}\")"
   ]
  },
  {
   "cell_type": "code",
   "execution_count": 17,
   "metadata": {},
   "outputs": [],
   "source": [
    "model.save('Movies_Review.h5')"
   ]
  }
 ],
 "metadata": {
  "kernelspec": {
   "display_name": "tensor",
   "language": "python",
   "name": "tensor"
  },
  "language_info": {
   "codemirror_mode": {
    "name": "ipython",
    "version": 3
   },
   "file_extension": ".py",
   "mimetype": "text/x-python",
   "name": "python",
   "nbconvert_exporter": "python",
   "pygments_lexer": "ipython3",
   "version": "3.7.1"
  }
 },
 "nbformat": 4,
 "nbformat_minor": 4
}
